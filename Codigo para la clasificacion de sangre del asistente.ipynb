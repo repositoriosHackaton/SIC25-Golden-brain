{
 "cells": [
  {
   "cell_type": "markdown",
   "metadata": {},
   "source": [
    "# Codigo para la clasificacion de sangre del asistente"
   ]
  },
  {
   "cell_type": "code",
   "execution_count": 1,
   "metadata": {},
   "outputs": [],
   "source": [
    "import joblib\n",
    "import pandas as pd\n",
    "\n",
    "# Importamos los modelos cargados\n",
    "modelo_recepcion = joblib.load('modelo_recepcion.pkl') # Carga del modelo de recepcion de sangre.\n",
    "modelo_donacion = joblib.load('modelo_donacion.pkl') # Carga del modelo de donacion de sangre.\n",
    "\n",
    "# Codigo de clasificacion para el asistente virtual\n",
    "def clasificador_donacion(datos):\n",
    "\n",
    "    # Preparar los datos\n",
    "    X_datos = pd.DataFrame(datos, columns=['O-', 'O+', 'B-', 'B+', 'A-', 'A+', 'AB-', 'AB+'])\n",
    "\n",
    "    # Predecir la etiqueta de donación\n",
    "    prediccion_datos = modelo_donacion.predict(X_datos)\n",
    "    \n",
    "    return prediccion_datos\n",
    "\n",
    "def clasificador_recepcion(datos):\n",
    "\n",
    "    # Preparar los datos\n",
    "    X_datos = pd.DataFrame(datos, columns=['O-', 'O+', 'B-', 'B+', 'A-', 'A+', 'AB-', 'AB+'])\n",
    "    \n",
    "    # Predecir la etiqueta de recepcion\n",
    "    prediccion_datos = modelo_recepcion.predict(X_datos)\n",
    "    \n",
    "    return prediccion_datos\n",
    "\n",
    "\n",
    "# transformar tipo de sangre a hotencoded desde asistente virtual\n",
    "def hotencode_sangre(sangre):\n",
    "    sangres = ['O-', 'O+', 'B-', 'B+', 'A-', 'A+', 'AB-', 'AB+']\n",
    "    return [1 if s == sangre else 0 for s in sangres]\n",
    "\n",
    "# Reconstruimos el tipo de sangre a partir de hotencode\n",
    "def decodificar_sangre(hotencoded):\n",
    "    sangres = ['O-', 'O+', 'B-', 'B+', 'A-', 'A+', 'AB-', 'AB+']\n",
    "    return [sangres[i] for i in range(len(hotencoded)) if hotencoded[i] == 1]\n",
    "\n",
    "# entrada de sangre del asistente\n",
    "\n",
    "def recepcion(type_blood):\n",
    "    # transformar el tipo de sangre a hotencoded\n",
    "    hotencoded = hotencode_sangre(type_blood.upper())\n",
    "    \n",
    "    # predecir la etiqueta de recepcion\n",
    "    prediccion = clasificador_recepcion([hotencoded])[0]\n",
    "\n",
    "    # decodificamos la prediccion\n",
    "    sangre = decodificar_sangre(prediccion)\n",
    "    return sangre\n",
    "\n",
    "def donacion(type_blood):\n",
    "    # transformar el tipo de sangre a hotencoded\n",
    "    hotencoded = hotencode_sangre(type_blood.upper())\n",
    "    \n",
    "    # predecir la etiqueta de donacion\n",
    "    prediccion = clasificador_donacion([hotencoded])[0]\n",
    "    \n",
    "    # decodificamos la prediccion\n",
    "    sangre = decodificar_sangre(prediccion)\n",
    "    return sangre"
   ]
  }
 ],
 "metadata": {
  "kernelspec": {
   "display_name": "Python 3",
   "language": "python",
   "name": "python3"
  },
  "language_info": {
   "codemirror_mode": {
    "name": "ipython",
    "version": 3
   },
   "file_extension": ".py",
   "mimetype": "text/x-python",
   "name": "python",
   "nbconvert_exporter": "python",
   "pygments_lexer": "ipython3",
   "version": "3.11.8"
  }
 },
 "nbformat": 4,
 "nbformat_minor": 2
}
